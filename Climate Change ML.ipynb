{
 "cells": [
  {
   "cell_type": "code",
   "execution_count": null,
   "metadata": {
    "dotnet_interactive": {
     "language": "csharp"
    },
    "polyglot_notebook": {
     "kernelName": "csharp"
    },
    "vscode": {
     "languageId": "polyglot-notebook"
    }
   },
   "outputs": [],
   "source": [
    "import numpy as np\n",
    "import pandas as pd\n",
    "import seaborn as sns\n",
    "import matplotlib.pyplot as plt\n",
    "import warnings\n",
    "warnings.filterwarnings('ignore')\n",
    "\n",
    "from sklearn.model_selection import train_test_split\n",
    "from sklearn.preprocessing import MinMaxScaler\n",
    "import tensorflow as tf\n",
    "from tensorflow.keras.models import Sequential\n",
    "from tensorflow.keras.layers import Dense, Activation,Dropout\n",
    "from tensorflow.keras.callbacks import EarlyStopping\n",
    "from tensorflow.keras.layers import Dropout\n",
    "from sklearn.metrics import classification_report,confusion_matrix\n",
    "from sklearn.metrics import r2_score\n",
    "from sklearn.metrics import mean_absolute_error , mean_absolute_percentage_error , mean_squared_error\n",
    "\n",
    "#Importing the CSV file\n",
    "df = pd.read_csv(r'D:\\allen\\Documents\\Mini Project 2 data.csv')\n",
    "df.head()"
   ]
  },
  {
   "cell_type": "code",
   "execution_count": null,
   "metadata": {
    "dotnet_interactive": {
     "language": "csharp"
    },
    "polyglot_notebook": {
     "kernelName": "csharp"
    },
    "vscode": {
     "languageId": "polyglot-notebook"
    }
   },
   "outputs": [],
   "source": [
    "#Stats of each column in the dataframe\n",
    "df.describe()\n"
   ]
  },
  {
   "cell_type": "code",
   "execution_count": null,
   "metadata": {
    "dotnet_interactive": {
     "language": "csharp"
    },
    "polyglot_notebook": {
     "kernelName": "csharp"
    },
    "vscode": {
     "languageId": "polyglot-notebook"
    }
   },
   "outputs": [],
   "source": [
    "#Date time format conversion\n",
    "df['Date'] = pd.to_datetime(df['Date'])\n",
    "df['Date']"
   ]
  },
  {
   "cell_type": "code",
   "execution_count": null,
   "metadata": {
    "dotnet_interactive": {
     "language": "csharp"
    },
    "polyglot_notebook": {
     "kernelName": "csharp"
    },
    "vscode": {
     "languageId": "polyglot-notebook"
    }
   },
   "outputs": [],
   "source": [
    "#Column names\n",
    "df.columns\n"
   ]
  },
  {
   "cell_type": "code",
   "execution_count": null,
   "metadata": {
    "dotnet_interactive": {
     "language": "csharp"
    },
    "polyglot_notebook": {
     "kernelName": "csharp"
    },
    "vscode": {
     "languageId": "polyglot-notebook"
    }
   },
   "outputs": [],
   "source": [
    "#Heatmap \n",
    "plt.figure(figsize=(10,10))\n",
    "ax = sns.heatmap(df.corr(), square=True, annot=True, fmt='.2f')\n",
    "ax.set_xticklabels(ax.get_xticklabels(), rotation=90)          \n",
    "plt.show()"
   ]
  },
  {
   "cell_type": "code",
   "execution_count": null,
   "metadata": {
    "dotnet_interactive": {
     "language": "csharp"
    },
    "polyglot_notebook": {
     "kernelName": "csharp"
    },
    "vscode": {
     "languageId": "polyglot-notebook"
    }
   },
   "outputs": [],
   "source": [
    "#Scatterplot between Wind speed and Temperature\n",
    "plt.figure(figsize=(4,4))\n",
    "sns.scatterplot(data=df,x='Wind_Speed',y='Temp',hue = 'Temp');"
   ]
  },
  {
   "cell_type": "code",
   "execution_count": null,
   "metadata": {
    "dotnet_interactive": {
     "language": "csharp"
    },
    "polyglot_notebook": {
     "kernelName": "csharp"
    },
    "vscode": {
     "languageId": "polyglot-notebook"
    }
   },
   "outputs": [],
   "source": [
    "#Scatterplot between Pressure and Temperature\n",
    "plt.figure(figsize=(4,4))\n",
    "sns.scatterplot(data=df,x='Pressure',y='Temp',hue = 'Temp');"
   ]
  },
  {
   "cell_type": "code",
   "execution_count": null,
   "metadata": {
    "dotnet_interactive": {
     "language": "csharp"
    },
    "polyglot_notebook": {
     "kernelName": "csharp"
    },
    "vscode": {
     "languageId": "polyglot-notebook"
    }
   },
   "outputs": [],
   "source": [
    "#Scatterplot between Humidity and Temperature\n",
    "plt.figure(figsize=(4,4))\n",
    "sns.scatterplot(data=df,x='Humidity',y='Temp',hue = 'Temp');"
   ]
  },
  {
   "cell_type": "code",
   "execution_count": null,
   "metadata": {
    "dotnet_interactive": {
     "language": "csharp"
    },
    "polyglot_notebook": {
     "kernelName": "csharp"
    },
    "vscode": {
     "languageId": "polyglot-notebook"
    }
   },
   "outputs": [],
   "source": [
    "#Checking for null values\n",
    "df.isnull().sum()/df.shape[0]*100\n"
   ]
  },
  {
   "cell_type": "code",
   "execution_count": null,
   "metadata": {
    "dotnet_interactive": {
     "language": "csharp"
    },
    "polyglot_notebook": {
     "kernelName": "csharp"
    },
    "vscode": {
     "languageId": "polyglot-notebook"
    }
   },
   "outputs": [],
   "source": [
    "train = pd.read_csv(r'D:\\allen\\Documents\\Mini Project 2 data.csv')\n",
    "test = pd.read_csv(r'D:\\allen\\Documents\\Mini Project 2 data.csv')\n",
    "\n",
    "display(train,test)"
   ]
  },
  {
   "cell_type": "code",
   "execution_count": null,
   "metadata": {
    "dotnet_interactive": {
     "language": "csharp"
    },
    "polyglot_notebook": {
     "kernelName": "csharp"
    },
    "vscode": {
     "languageId": "polyglot-notebook"
    }
   },
   "outputs": [],
   "source": [
    "train.Pressure.plot()"
   ]
  },
  {
   "cell_type": "code",
   "execution_count": null,
   "metadata": {
    "dotnet_interactive": {
     "language": "csharp"
    },
    "polyglot_notebook": {
     "kernelName": "csharp"
    },
    "vscode": {
     "languageId": "polyglot-notebook"
    }
   },
   "outputs": [],
   "source": [
    "train.Humidity.plot()"
   ]
  },
  {
   "cell_type": "code",
   "execution_count": null,
   "metadata": {
    "dotnet_interactive": {
     "language": "csharp"
    },
    "polyglot_notebook": {
     "kernelName": "csharp"
    },
    "vscode": {
     "languageId": "polyglot-notebook"
    }
   },
   "outputs": [],
   "source": [
    "train.Wind_Speed.plot()"
   ]
  },
  {
   "cell_type": "code",
   "execution_count": null,
   "metadata": {
    "dotnet_interactive": {
     "language": "csharp"
    },
    "polyglot_notebook": {
     "kernelName": "csharp"
    },
    "vscode": {
     "languageId": "polyglot-notebook"
    }
   },
   "outputs": [],
   "source": [
    "from statsmodels.tsa.seasonal import seasonal_decompose\n",
    "\n",
    "decomp = seasonal_decompose(train.Pressure, period=365)\n",
    "decomp.plot();"
   ]
  },
  {
   "cell_type": "code",
   "execution_count": null,
   "metadata": {
    "dotnet_interactive": {
     "language": "csharp"
    },
    "polyglot_notebook": {
     "kernelName": "csharp"
    },
    "vscode": {
     "languageId": "polyglot-notebook"
    }
   },
   "outputs": [],
   "source": [
    "from statsmodels.tsa.seasonal import seasonal_decompose\n",
    "\n",
    "decomp = seasonal_decompose(train.Humidity, period=365)\n",
    "decomp.plot();"
   ]
  },
  {
   "cell_type": "code",
   "execution_count": null,
   "metadata": {
    "dotnet_interactive": {
     "language": "csharp"
    },
    "polyglot_notebook": {
     "kernelName": "csharp"
    },
    "vscode": {
     "languageId": "polyglot-notebook"
    }
   },
   "outputs": [],
   "source": [
    "from statsmodels.tsa.seasonal import seasonal_decompose\n",
    "\n",
    "decomp = seasonal_decompose(train.Wind_Speed, period=365)\n",
    "decomp.plot();"
   ]
  },
  {
   "cell_type": "code",
   "execution_count": null,
   "metadata": {
    "dotnet_interactive": {
     "language": "csharp"
    },
    "polyglot_notebook": {
     "kernelName": "csharp"
    },
    "vscode": {
     "languageId": "polyglot-notebook"
    }
   },
   "outputs": [],
   "source": [
    "decomp.resid.plot(kind='hist')"
   ]
  },
  {
   "cell_type": "code",
   "execution_count": null,
   "metadata": {
    "dotnet_interactive": {
     "language": "csharp"
    },
    "polyglot_notebook": {
     "kernelName": "csharp"
    },
    "vscode": {
     "languageId": "polyglot-notebook"
    }
   },
   "outputs": [],
   "source": [
    "#Subplots \n",
    "t = (df.dtypes == \"float64\")\n",
    "num_cols = list(t[t].index)\n",
    "\n",
    "for col in num_cols:\n",
    "  print(col)\n",
    "  plt.figure(figsize = (12,6))\n",
    "  plt.subplot(1, 2, 1)\n",
    "  sns.boxplot(data=df,y=col)\n",
    "  plt.subplot(1, 2, 2)\n",
    "  sns.scatterplot(data=df,x='Temp',y=col)\n",
    "  plt.show()"
   ]
  },
  {
   "cell_type": "code",
   "execution_count": null,
   "metadata": {
    "dotnet_interactive": {
     "language": "csharp"
    },
    "polyglot_notebook": {
     "kernelName": "csharp"
    },
    "vscode": {
     "languageId": "polyglot-notebook"
    }
   },
   "outputs": [],
   "source": [
    "#Quartiles for Pressure\n",
    "from scipy import stats\n",
    "q1 = df['Pressure'].quantile(q=0.25)\n",
    "q3 = df['Pressure'].quantile(q=0.75)\n",
    "print (\"1st quartile =  \", q1)\n",
    "print (\"3rd quartile =  \", q3)\n",
    "print(\"Interquartile range = \",stats.iqr(df['Pressure']))\n",
    "\n",
    "#outlier detection\n",
    "Lower_outlier = q1 - 1.5*(q3-q1)\n",
    "Upper_outlier = q3 + 1.5*(q3-q1)\n",
    "print(\"Lower outlier is =  \",Lower_outlier)\n",
    "print(\"Upper outlier is =  \",Upper_outlier)\n",
    "print(\"Number of lower outliers are = \", df[df['Pressure']<98.55]['Pressure'].count())\n",
    "print(\"Number of upper outliers are = \", df[df['Pressure']>99.67]['Pressure'].count())"
   ]
  },
  {
   "cell_type": "code",
   "execution_count": null,
   "metadata": {
    "dotnet_interactive": {
     "language": "csharp"
    },
    "polyglot_notebook": {
     "kernelName": "csharp"
    },
    "vscode": {
     "languageId": "polyglot-notebook"
    }
   },
   "outputs": [],
   "source": [
    "#Quartiles for Humidity\n",
    "from scipy import stats\n",
    "q1 = df['Humidity'].quantile(q=0.25)\n",
    "q3 = df['Humidity'].quantile(q=0.75)\n",
    "print (\"1st quartile =  \", q1)\n",
    "print (\"3rd quartile =  \", q3)\n",
    "print(\"Interquartile range = \",stats.iqr(df['Humidity']))\n",
    "\n",
    "#outlier detection\n",
    "Lower_outlier = q1 - 1.5*(q3-q1)\n",
    "Upper_outlier = q3 + 1.5*(q3-q1)\n",
    "print(\"Lower outlier is =  \",Lower_outlier)\n",
    "print(\"Upper outlier is =  \",Upper_outlier)\n",
    "print(\"Number of lower outliers are = \", df[df['Humidity']<9.34]['Humidity'].count())\n",
    "print(\"Number of upper outliers are = \", df[df['Humidity']>23.98]['Humidity'].count())"
   ]
  },
  {
   "cell_type": "code",
   "execution_count": null,
   "metadata": {
    "dotnet_interactive": {
     "language": "csharp"
    },
    "polyglot_notebook": {
     "kernelName": "csharp"
    },
    "vscode": {
     "languageId": "polyglot-notebook"
    }
   },
   "outputs": [],
   "source": [
    "#Quartiles for Wind Speed\n",
    "from scipy import stats\n",
    "q1 = df['Wind_Speed'].quantile(q=0.25)\n",
    "q3 = df['Wind_Speed'].quantile(q=0.75)\n",
    "print (\"1st quartile =  \", q1)\n",
    "print (\"3rd quartile =  \", q3)\n",
    "print(\"Interquartile range = \",stats.iqr(df['Wind_Speed']))\n",
    "\n",
    "#outlier detection\n",
    "Lower_outlier = q1 - 1.5*(q3-q1)\n",
    "Upper_outlier = q3 + 1.5*(q3-q1)\n",
    "print(\"Lower outlier is =  \",Lower_outlier)\n",
    "print(\"Upper outlier is =  \",Upper_outlier)\n",
    "print(\"Number of lower outliers are = \", df[df['Wind_Speed']<0]['Wind_Speed'].count())\n",
    "print(\"Number of upper outliers are = \", df[df['Wind_Speed']>5.475]['Wind_Speed'].count())"
   ]
  },
  {
   "cell_type": "code",
   "execution_count": null,
   "metadata": {
    "dotnet_interactive": {
     "language": "csharp"
    },
    "polyglot_notebook": {
     "kernelName": "csharp"
    },
    "vscode": {
     "languageId": "polyglot-notebook"
    }
   },
   "outputs": [],
   "source": [
    "#To ignore future warnings\n",
    "import warnings\n",
    "warnings.simplefilter(action='ignore', category=FutureWarning)\n",
    "\n",
    "\n",
    "#Multivariate analysis\n",
    "fig, ax2 = plt.subplots(2,2,figsize = (27,18))\n",
    "sns.distplot(df['Pressure'],ax = ax2[0][0])\n",
    "sns.distplot(df['Humidity'],ax = ax2[0][1])\n",
    "sns.distplot(df['Wind_Speed'],ax = ax2[1][0])\n",
    "sns.distplot(df['Temp'],ax = ax2[1][1])\n",
    "\n"
   ]
  },
  {
   "cell_type": "code",
   "execution_count": null,
   "metadata": {
    "dotnet_interactive": {
     "language": "csharp"
    },
    "polyglot_notebook": {
     "kernelName": "csharp"
    },
    "vscode": {
     "languageId": "polyglot-notebook"
    }
   },
   "outputs": [],
   "source": [
    "#Start\n",
    "df = pd.read_csv(r'D:\\allen\\Documents\\Mini Project 2 data dmy sep.csv')\n",
    "\n",
    "\n",
    "#Modelling\n",
    "X = df.drop(['Temp','Date'], axis = 1)\n",
    "y = df['Temp']\n",
    "\n",
    "X_train, X_test, y_train, y_test = train_test_split(X,y, test_size= 0.2, random_state= 1)"
   ]
  },
  {
   "cell_type": "code",
   "execution_count": null,
   "metadata": {
    "dotnet_interactive": {
     "language": "csharp"
    },
    "polyglot_notebook": {
     "kernelName": "csharp"
    },
    "vscode": {
     "languageId": "polyglot-notebook"
    }
   },
   "outputs": [],
   "source": [
    "#testing different models\n",
    "\n",
    "#Random Forest\n",
    "from sklearn.ensemble import RandomForestRegressor\n",
    "rf = RandomForestRegressor()\n",
    "rf.fit(X_train, y_train)\n",
    "\n",
    "#Random Forest Kfold cross validation\n",
    "k = 5\n",
    "kfold = KFold(n_splits=k)\n",
    "results_1 = cross_val_score(rf, X, y, cv=kfold)\n",
    "acc1=np.mean(abs(results_1))\n",
    "\n",
    "#Decision Tree\n",
    "from sklearn.tree import DecisionTreeRegressor\n",
    "dt = DecisionTreeRegressor()\n",
    "dt.fit(X_train,y_train)\n",
    "\n",
    "#Decision Tree Kfold cross validation\n",
    "k = 7\n",
    "kfold = KFold(n_splits=k)\n",
    "results_2 = cross_val_score(dt, X, y, cv=kfold)\n",
    "acc2=np.mean(abs(results_2))\n",
    "\n",
    "#SVR\n",
    "from sklearn.svm import SVR\n",
    "svr = SVR(kernel='rbf')\n",
    "svr.fit(X_train,y_train)\n",
    "\n",
    "#SVR Kfold cross validation\n",
    "k = 6\n",
    "kfold = KFold(n_splits=k)\n",
    "results_3 = cross_val_score(svr, X, y, cv=kfold)\n",
    "acc3=np.mean(abs(results_3))\n",
    "\n",
    "#Linear Regression\n",
    "from sklearn.linear_model import LinearRegression\n",
    "lr = LinearRegression()\n",
    "lr.fit(X_train,y_train)\n",
    "\n",
    "#Linear Regression Kfold cross validation\n",
    "k = 4\n",
    "kfold = KFold(n_splits=k)\n",
    "results_4 = cross_val_score(lr, X, y, cv=kfold)\n",
    "acc4 =np.mean(abs(results_4))\n",
    "\n",
    "#KNN\n",
    "from sklearn.neighbors import KNeighborsRegressor\n",
    "\n",
    "#checking for values of neighbours to find k\n",
    "diff_k=[]\n",
    "for i in range(1,45):\n",
    "  knn = KNeighborsRegressor(n_neighbors=i)\n",
    "  knn.fit(X_train, y_train)\n",
    "  pred_i = knn.predict(X_test)\n",
    "  diff_k.append(np.mean(pred_i != y_test))\n",
    "    \n",
    "#plotting graph to determine k    \n",
    "plt.figure(figsize=(12,6))\n",
    "plt.plot(range(1,45),diff_k,color='red',linestyle='dashed',marker='o',markerfacecolor='blue',markersize=8)\n",
    "plt.title('Different K Values')\n",
    "plt.xlabel('K Values')\n",
    "plt.ylabel('Mean errors')    \n",
    "\n",
    "#taking value of k as 3 \n",
    "knn1 = KNeighborsRegressor(n_neighbors=3)\n",
    "knn1.fit(X_train, y_train)\n",
    "\n",
    "#KNN Kfold cross validation\n",
    "k = 7\n",
    "kfold = KFold(n_splits=k)\n",
    "results_5 = cross_val_score(knn1, X, y, cv=kfold)\n",
    "acc5 =np.mean(abs(results_5))\n",
    "\n",
    "#Gradient Boosting Regressor\n",
    "from sklearn.ensemble import GradientBoostingRegressor\n",
    "gbr = GradientBoostingRegressor()\n",
    "gbr.fit(X_train, y_train)\n",
    "\n",
    "#Gradient Boosting Regressor Kfold cross validation\n",
    "k = 6\n",
    "kfold = KFold(n_splits=k)\n",
    "results_6 = cross_val_score(gbr, X, y, cv=kfold)\n",
    "acc6 =np.mean(abs(results_6))\n",
    "\n",
    "#AdaBoost Regressor\n",
    "from sklearn.ensemble import AdaBoostRegressor\n",
    "\n",
    "\n",
    "ada = AdaBoostRegressor()\n",
    "ada.fit(X_train, y_train)\n",
    "\n",
    "#AdaBoost Regressor Kfold cross validation\n",
    "k = 4\n",
    "kfold = KFold(n_splits=k)\n",
    "results_7 = cross_val_score(ada, X, y, cv=kfold)\n",
    "acc7 =np.mean(abs(results_7))\n",
    "\n",
    "#accuracy\n",
    "sc1 = abs(rf.score(X_test, y_test))\n",
    "sc2 = abs(dt.score(X_test, y_test))\n",
    "sc3 = abs(svr.score(X_test, y_test))\n",
    "sc4 = abs(lr.score(X_test, y_test))\n",
    "sc5 = abs(knn1.score(X_test, y_test))\n",
    "sc6 = abs(gbr.score(X_test, y_test))\n",
    "sc7 = abs(ada.score(X_test, y_test))\n",
    "\n",
    "results = pd.DataFrame({'Algorithm': ['Random Forest','Random Forest Kfold','Decision Tree','Decision Tree Kfold',\n",
    "                        'SVR','SVR Kfold','Linear Regression','Linear Regression Kfold','KNN','KNN Kfold',\n",
    "                         'Gradient Boosting Regressor','Gradient Boosting Regressor Kfold','AdaBoost Regressor',\n",
    "                         'AdaBoost Regressor Kfold'],\n",
    "                        'Accuracy': [sc1,acc1,sc2,acc2,sc3,acc3,sc4,acc4,sc5,acc5,sc6,acc6\n",
    "                        ,sc7,acc7]})\n",
    "\n",
    "print(results)\n"
   ]
  },
  {
   "cell_type": "code",
   "execution_count": null,
   "metadata": {
    "dotnet_interactive": {
     "language": "csharp"
    },
    "polyglot_notebook": {
     "kernelName": "csharp"
    },
    "vscode": {
     "languageId": "polyglot-notebook"
    }
   },
   "outputs": [],
   "source": []
  }
 ],
 "metadata": {
  "kernelspec": {
   "display_name": "Python 3 (ipykernel)",
   "language": "python",
   "name": "python3"
  },
  "language_info": {
   "codemirror_mode": {
    "name": "ipython",
    "version": 3
   },
   "file_extension": ".py",
   "mimetype": "text/x-python",
   "name": "python",
   "nbconvert_exporter": "python",
   "pygments_lexer": "ipython3",
   "version": "3.8.6rc1"
  }
 },
 "nbformat": 4,
 "nbformat_minor": 2
}
